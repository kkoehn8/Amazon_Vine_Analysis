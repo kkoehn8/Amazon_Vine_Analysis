{
  "nbformat": 4,
  "nbformat_minor": 0,
  "metadata": {
    "colab": {
      "provenance": [],
      "collapsed_sections": [],
      "authorship_tag": "ABX9TyMOMKP+XjCY6zavGomOjvso",
      "include_colab_link": true
    },
    "kernelspec": {
      "name": "python3",
      "display_name": "Python 3"
    },
    "language_info": {
      "name": "python"
    }
  },
  "cells": [
    {
      "cell_type": "markdown",
      "metadata": {
        "id": "view-in-github",
        "colab_type": "text"
      },
      "source": [
        "<a href=\"https://colab.research.google.com/github/kkoehn8/Amazon_Vine_Analysis/blob/main/Vine_Review_Analysis.ipynb\" target=\"_parent\"><img src=\"https://colab.research.google.com/assets/colab-badge.svg\" alt=\"Open In Colab\"/></a>"
      ]
    },
    {
      "cell_type": "code",
      "execution_count": null,
      "metadata": {
        "colab": {
          "base_uri": "https://localhost:8080/"
        },
        "id": "BVGIE44lN9w_",
        "outputId": "6fcc6764-78a6-4e31-bde1-4c93db29f4cf"
      },
      "outputs": [
        {
          "output_type": "stream",
          "name": "stdout",
          "text": [
            "\r0% [Working]\r            \rGet:1 http://security.ubuntu.com/ubuntu bionic-security InRelease [88.7 kB]\n",
            "\r0% [Connecting to archive.ubuntu.com (185.125.190.36)] [1 InRelease 14.2 kB/88.\r                                                                               \rGet:2 https://cloud.r-project.org/bin/linux/ubuntu bionic-cran40/ InRelease [3,626 B]\n",
            "\r0% [Connecting to archive.ubuntu.com (185.125.190.36)] [1 InRelease 66.3 kB/88.\r0% [Connecting to archive.ubuntu.com (185.125.190.36)] [1 InRelease 88.7 kB/88.\r0% [Connecting to archive.ubuntu.com (185.125.190.36)] [Waiting for headers] [C\r0% [2 InRelease gpgv 3,626 B] [Waiting for headers] [Waiting for headers] [Conn\r                                                                               \rHit:3 http://archive.ubuntu.com/ubuntu bionic InRelease\n",
            "\r0% [2 InRelease gpgv 3,626 B] [Waiting for headers] [Waiting for headers] [Wait\r                                                                               \rGet:4 http://ppa.launchpad.net/c2d4u.team/c2d4u4.0+/ubuntu bionic InRelease [15.9 kB]\n",
            "\r0% [2 InRelease gpgv 3,626 B] [Waiting for headers] [Waiting for headers] [4 In\r                                                                               \rIgn:5 https://developer.download.nvidia.com/compute/machine-learning/repos/ubuntu1804/x86_64  InRelease\n",
            "\r0% [2 InRelease gpgv 3,626 B] [Waiting for headers] [4 InRelease 14.2 kB/15.9 k\r                                                                               \rGet:6 http://archive.ubuntu.com/ubuntu bionic-updates InRelease [88.7 kB]\n",
            "Get:7 https://developer.download.nvidia.com/compute/cuda/repos/ubuntu1804/x86_64  InRelease [1,581 B]\n",
            "Hit:8 https://developer.download.nvidia.com/compute/machine-learning/repos/ubuntu1804/x86_64  Release\n",
            "Hit:9 http://ppa.launchpad.net/cran/libgit2/ubuntu bionic InRelease\n",
            "Get:10 http://archive.ubuntu.com/ubuntu bionic-backports InRelease [83.3 kB]\n",
            "Hit:11 http://ppa.launchpad.net/deadsnakes/ppa/ubuntu bionic InRelease\n",
            "Get:12 http://ppa.launchpad.net/graphics-drivers/ppa/ubuntu bionic InRelease [21.3 kB]\n",
            "Get:13 http://security.ubuntu.com/ubuntu bionic-security/main amd64 Packages [2,992 kB]\n",
            "Get:14 http://security.ubuntu.com/ubuntu bionic-security/restricted amd64 Packages [1,163 kB]\n",
            "Get:15 http://security.ubuntu.com/ubuntu bionic-security/universe amd64 Packages [1,546 kB]\n",
            "Get:16 https://developer.download.nvidia.com/compute/cuda/repos/ubuntu1804/x86_64  Packages [948 kB]\n",
            "Get:17 http://ppa.launchpad.net/c2d4u.team/c2d4u4.0+/ubuntu bionic/main Sources [2,163 kB]\n",
            "Get:19 http://ppa.launchpad.net/c2d4u.team/c2d4u4.0+/ubuntu bionic/main amd64 Packages [1,108 kB]\n",
            "Get:20 http://archive.ubuntu.com/ubuntu bionic-updates/restricted amd64 Packages [1,204 kB]\n",
            "Get:21 http://archive.ubuntu.com/ubuntu bionic-updates/main amd64 Packages [3,425 kB]\n",
            "Get:22 http://archive.ubuntu.com/ubuntu bionic-updates/universe amd64 Packages [2,324 kB]\n",
            "Get:23 http://ppa.launchpad.net/graphics-drivers/ppa/ubuntu bionic/main amd64 Packages [48.3 kB]\n",
            "Fetched 17.2 MB in 6s (2,982 kB/s)\n",
            "Reading package lists... Done\n"
          ]
        }
      ],
      "source": [
        "import os\n",
        "# Find the latest version of spark 3.0 from http://www.apache.org/dist/spark/ and enter as the spark version\n",
        "# For example:\n",
        "# spark_version = 'spark-3.0.3'\n",
        "spark_version = 'spark-3.2.2'\n",
        "os.environ['SPARK_VERSION']=spark_version\n",
        "\n",
        "# Install Spark and Java\n",
        "!apt-get update\n",
        "!apt-get install openjdk-11-jdk-headless -qq > /dev/null\n",
        "!wget -q http://www.apache.org/dist/spark/$SPARK_VERSION/$SPARK_VERSION-bin-hadoop2.7.tgz\n",
        "!tar xf $SPARK_VERSION-bin-hadoop2.7.tgz\n",
        "!pip install -q findspark\n",
        "\n",
        "# Set Environment Variables\n",
        "import os\n",
        "os.environ[\"JAVA_HOME\"] = \"/usr/lib/jvm/java-11-openjdk-amd64\"\n",
        "os.environ[\"SPARK_HOME\"] = f\"/content/{spark_version}-bin-hadoop2.7\"\n",
        "\n",
        "# Start a SparkSession\n",
        "import findspark\n",
        "findspark.init()"
      ]
    },
    {
      "cell_type": "code",
      "source": [
        "# Download the Postgres driver that will allow Spark to interact with Postgres.\n",
        "!wget https://jdbc.postgresql.org/download/postgresql-42.2.16.jar"
      ],
      "metadata": {
        "colab": {
          "base_uri": "https://localhost:8080/"
        },
        "id": "5ZEjAGl5Ovex",
        "outputId": "b8b31a4a-3ded-462a-ae9a-d54b50a5cc36"
      },
      "execution_count": 2,
      "outputs": [
        {
          "output_type": "stream",
          "name": "stdout",
          "text": [
            "--2022-10-06 02:58:34--  https://jdbc.postgresql.org/download/postgresql-42.2.16.jar\n",
            "Resolving jdbc.postgresql.org (jdbc.postgresql.org)... 72.32.157.228, 2001:4800:3e1:1::228\n",
            "Connecting to jdbc.postgresql.org (jdbc.postgresql.org)|72.32.157.228|:443... connected.\n",
            "HTTP request sent, awaiting response... 200 OK\n",
            "Length: 1002883 (979K) [application/java-archive]\n",
            "Saving to: ‘postgresql-42.2.16.jar’\n",
            "\n",
            "postgresql-42.2.16. 100%[===================>] 979.38K  5.53MB/s    in 0.2s    \n",
            "\n",
            "2022-10-06 02:58:35 (5.53 MB/s) - ‘postgresql-42.2.16.jar’ saved [1002883/1002883]\n",
            "\n"
          ]
        }
      ]
    },
    {
      "cell_type": "code",
      "source": [
        "from pyspark.sql import SparkSession\n",
        "spark = SparkSession.builder.appName(\"M16-Amazon-Challenge\").config(\"spark.driver.extraClassPath\",\"/content/postgresql-42.2.16.jar\").getOrCreate()"
      ],
      "metadata": {
        "id": "X_u5KveFOwIi"
      },
      "execution_count": 3,
      "outputs": []
    },
    {
      "cell_type": "code",
      "source": [
        "#Connect to my Outdoors Vine Review csv file\n",
        "from pyspark import SparkFiles\n",
        "url = \"<my url>\"\n",
        "spark.sparkContext.addFile(url)\n",
        "df = spark.read.option(\"encoding\", \"UTF-8\").csv(SparkFiles.get(\"Vine_data.csv\"), sep=\",\", header=True, inferSchema=True)\n",
        "df.show()"
      ],
      "metadata": {
        "colab": {
          "base_uri": "https://localhost:8080/"
        },
        "id": "zum8IbunO5zv",
        "outputId": "5036d805-5f4e-407d-b60f-a6bd6701012d"
      },
      "execution_count": 5,
      "outputs": [
        {
          "output_type": "stream",
          "name": "stdout",
          "text": [
            "+--------------+-----------+-------------+-----------+----+-----------------+\n",
            "|     review_id|star_rating|helpful_votes|total_votes|vine|verified_purchase|\n",
            "+--------------+-----------+-------------+-----------+----+-----------------+\n",
            "|R35T75OLUGHL5C|          4|            0|          0|   N|                Y|\n",
            "|R2BV735O46BN33|          5|            0|          0|   N|                Y|\n",
            "|R2NBEUGPQQGXP1|          4|            0|          0|   N|                Y|\n",
            "|R17LLAOJ8ITK0S|          3|            1|          1|   N|                Y|\n",
            "|R39PEQBT5ISEF4|          1|            0|          0|   N|                Y|\n",
            "|R3GNM3SU9VHJFT|          4|            1|          1|   N|                Y|\n",
            "| R2Y81OP0EK467|          5|            0|          0|   N|                Y|\n",
            "|R2LFGSI6HAYH5F|          5|            1|          1|   N|                Y|\n",
            "|R297G6ED1IQO7W|          5|            1|          1|   N|                Y|\n",
            "| RE27RFC6101N6|          5|            0|          0|   N|                Y|\n",
            "|R3BPDME6E94W8Z|          5|            0|          0|   N|                Y|\n",
            "|R2P08O1RILUOX3|          3|            0|          0|   N|                Y|\n",
            "|R37CVAB03PTDVI|          5|            0|          1|   N|                Y|\n",
            "| RAWNWOGXPCPMD|          5|            0|          0|   N|                Y|\n",
            "| R5DYGP6ASX77M|          5|            0|          0|   N|                Y|\n",
            "|R1O0SAOOGF2KG7|          4|            0|          0|   N|                Y|\n",
            "|R35NJUT0U3MU3V|          5|            0|          0|   N|                Y|\n",
            "|R242C08MF9D1AH|          5|            0|          0|   N|                Y|\n",
            "| R3RYG8TJTO4E2|          5|            0|          0|   N|                Y|\n",
            "|R3IKH1DNY0CP9F|          2|            0|          0|   N|                Y|\n",
            "+--------------+-----------+-------------+-----------+----+-----------------+\n",
            "only showing top 20 rows\n",
            "\n"
          ]
        }
      ]
    },
    {
      "cell_type": "code",
      "source": [
        "#Select rows\n",
        "df_reviews = df.select([\"star_rating\", \"helpful_votes\", \"total_votes\", \"vine\",\"verified_purchase\"])\n",
        "\n",
        "#Filter for total votes greater than 20\n",
        "df_reviews_20 = df_reviews.filter(df_reviews[\"total_votes\"]>=20)\n",
        "df_reviews_20.show()"
      ],
      "metadata": {
        "colab": {
          "base_uri": "https://localhost:8080/"
        },
        "id": "Y2ihxGIWPyBS",
        "outputId": "12bf95d8-072e-4e96-e1fa-205b9478f464"
      },
      "execution_count": 6,
      "outputs": [
        {
          "output_type": "stream",
          "name": "stdout",
          "text": [
            "+-----------+-------------+-----------+----+-----------------+\n",
            "|star_rating|helpful_votes|total_votes|vine|verified_purchase|\n",
            "+-----------+-------------+-----------+----+-----------------+\n",
            "|          5|           25|         29|   N|                Y|\n",
            "|          5|           31|         31|   N|                Y|\n",
            "|          3|           29|         31|   N|                Y|\n",
            "|          3|           26|         27|   N|                Y|\n",
            "|          3|           20|         21|   N|                Y|\n",
            "|          5|           35|         39|   N|                Y|\n",
            "|          4|           26|         26|   N|                Y|\n",
            "|          2|           14|         43|   N|                Y|\n",
            "|          1|           89|         96|   N|                Y|\n",
            "|          5|           22|         22|   N|                Y|\n",
            "|          5|           27|         27|   N|                Y|\n",
            "|          4|           21|         21|   N|                Y|\n",
            "|          5|           26|         30|   N|                Y|\n",
            "|          5|           52|         55|   N|                N|\n",
            "|          4|           25|         25|   N|                N|\n",
            "|          3|           20|         20|   N|                Y|\n",
            "|          2|           48|         50|   N|                Y|\n",
            "|          5|           20|         26|   N|                N|\n",
            "|          4|           45|         49|   N|                Y|\n",
            "|          5|          247|        263|   N|                Y|\n",
            "+-----------+-------------+-----------+----+-----------------+\n",
            "only showing top 20 rows\n",
            "\n"
          ]
        }
      ]
    },
    {
      "cell_type": "code",
      "source": [
        "#Filter for helpful votes divided by total votes greater than or equal to 50%\n",
        "df_reviews_50 = df_reviews_20.filter(df_reviews_20[\"helpful_votes\"]/df_reviews_20[\"total_votes\"] >=0.50)\n",
        "df_reviews_50.show()"
      ],
      "metadata": {
        "colab": {
          "base_uri": "https://localhost:8080/"
        },
        "id": "YCdHnR9RQsSH",
        "outputId": "dcf08efd-3b53-4147-d3c1-d0cb2790af53"
      },
      "execution_count": 8,
      "outputs": [
        {
          "output_type": "stream",
          "name": "stdout",
          "text": [
            "+-----------+-------------+-----------+----+-----------------+\n",
            "|star_rating|helpful_votes|total_votes|vine|verified_purchase|\n",
            "+-----------+-------------+-----------+----+-----------------+\n",
            "|          5|           25|         29|   N|                Y|\n",
            "|          5|           31|         31|   N|                Y|\n",
            "|          3|           29|         31|   N|                Y|\n",
            "|          3|           26|         27|   N|                Y|\n",
            "|          3|           20|         21|   N|                Y|\n",
            "|          5|           35|         39|   N|                Y|\n",
            "|          4|           26|         26|   N|                Y|\n",
            "|          1|           89|         96|   N|                Y|\n",
            "|          5|           22|         22|   N|                Y|\n",
            "|          5|           27|         27|   N|                Y|\n",
            "|          4|           21|         21|   N|                Y|\n",
            "|          5|           26|         30|   N|                Y|\n",
            "|          5|           52|         55|   N|                N|\n",
            "|          4|           25|         25|   N|                N|\n",
            "|          3|           20|         20|   N|                Y|\n",
            "|          2|           48|         50|   N|                Y|\n",
            "|          5|           20|         26|   N|                N|\n",
            "|          4|           45|         49|   N|                Y|\n",
            "|          5|          247|        263|   N|                Y|\n",
            "|          5|           23|         25|   N|                N|\n",
            "+-----------+-------------+-----------+----+-----------------+\n",
            "only showing top 20 rows\n",
            "\n"
          ]
        }
      ]
    },
    {
      "cell_type": "code",
      "source": [
        "#Filter the above that are in the vine program\n",
        "paid_reviews_df = df_reviews_50.filter(df_reviews_50[\"vine\"] == \"Y\")\n",
        "paid_reviews_df.show()"
      ],
      "metadata": {
        "colab": {
          "base_uri": "https://localhost:8080/"
        },
        "id": "hhwgY6RpRUa_",
        "outputId": "64dca01a-7e0d-461b-898d-79ac961ccb84"
      },
      "execution_count": 9,
      "outputs": [
        {
          "output_type": "stream",
          "name": "stdout",
          "text": [
            "+-----------+-------------+-----------+----+-----------------+\n",
            "|star_rating|helpful_votes|total_votes|vine|verified_purchase|\n",
            "+-----------+-------------+-----------+----+-----------------+\n",
            "|          5|           25|         25|   Y|                N|\n",
            "|          5|           26|         28|   Y|                N|\n",
            "|          5|           79|         82|   Y|                N|\n",
            "|          5|           12|         20|   Y|                N|\n",
            "|          5|           32|         37|   Y|                N|\n",
            "|          5|           28|         33|   Y|                N|\n",
            "|          4|           59|         65|   Y|                N|\n",
            "|          4|           37|         38|   Y|                N|\n",
            "|          2|           15|         21|   Y|                N|\n",
            "|          5|          123|        128|   Y|                N|\n",
            "|          4|           31|         33|   Y|                N|\n",
            "|          5|           34|         38|   Y|                N|\n",
            "|          5|           35|         37|   Y|                N|\n",
            "|          5|           37|         41|   Y|                N|\n",
            "|          5|           31|         33|   Y|                N|\n",
            "|          5|           34|         34|   Y|                N|\n",
            "|          5|           38|         39|   Y|                N|\n",
            "|          5|           21|         22|   Y|                N|\n",
            "|          5|           40|         43|   Y|                N|\n",
            "|          4|          119|        125|   Y|                N|\n",
            "+-----------+-------------+-----------+----+-----------------+\n",
            "only showing top 20 rows\n",
            "\n"
          ]
        }
      ]
    },
    {
      "cell_type": "code",
      "source": [
        "#Filter the above that are not in the vine program\n",
        "unpaid_reviews_df = df_reviews_50.filter(df_reviews_50[\"vine\"] == \"N\")\n",
        "unpaid_reviews_df.show()"
      ],
      "metadata": {
        "colab": {
          "base_uri": "https://localhost:8080/"
        },
        "id": "-Y863s9DRvJz",
        "outputId": "31be5949-dcda-4e25-9def-3a5c51d1e836"
      },
      "execution_count": 10,
      "outputs": [
        {
          "output_type": "stream",
          "name": "stdout",
          "text": [
            "+-----------+-------------+-----------+----+-----------------+\n",
            "|star_rating|helpful_votes|total_votes|vine|verified_purchase|\n",
            "+-----------+-------------+-----------+----+-----------------+\n",
            "|          5|           25|         29|   N|                Y|\n",
            "|          5|           31|         31|   N|                Y|\n",
            "|          3|           29|         31|   N|                Y|\n",
            "|          3|           26|         27|   N|                Y|\n",
            "|          3|           20|         21|   N|                Y|\n",
            "|          5|           35|         39|   N|                Y|\n",
            "|          4|           26|         26|   N|                Y|\n",
            "|          1|           89|         96|   N|                Y|\n",
            "|          5|           22|         22|   N|                Y|\n",
            "|          5|           27|         27|   N|                Y|\n",
            "|          4|           21|         21|   N|                Y|\n",
            "|          5|           26|         30|   N|                Y|\n",
            "|          5|           52|         55|   N|                N|\n",
            "|          4|           25|         25|   N|                N|\n",
            "|          3|           20|         20|   N|                Y|\n",
            "|          2|           48|         50|   N|                Y|\n",
            "|          5|           20|         26|   N|                N|\n",
            "|          4|           45|         49|   N|                Y|\n",
            "|          5|          247|        263|   N|                Y|\n",
            "|          5|           23|         25|   N|                N|\n",
            "+-----------+-------------+-----------+----+-----------------+\n",
            "only showing top 20 rows\n",
            "\n"
          ]
        }
      ]
    },
    {
      "cell_type": "code",
      "source": [
        "#Paid Reviews with 5 star rating\n",
        "paid_5star_reviews = paid_reviews_df[paid_reviews_df[\"star_rating\"] == 5].count()\n",
        "paid_5star_reviews"
      ],
      "metadata": {
        "colab": {
          "base_uri": "https://localhost:8080/"
        },
        "id": "NIPDnTxzR9GR",
        "outputId": "f2b432d0-b8af-4361-e6ae-079307a86f96"
      },
      "execution_count": 12,
      "outputs": [
        {
          "output_type": "execute_result",
          "data": {
            "text/plain": [
              "56"
            ]
          },
          "metadata": {},
          "execution_count": 12
        }
      ]
    },
    {
      "cell_type": "code",
      "source": [
        "#Paid Reviews Total\n",
        "paid_reviews_total = paid_reviews_df.count()\n",
        "paid_reviews_total"
      ],
      "metadata": {
        "colab": {
          "base_uri": "https://localhost:8080/"
        },
        "id": "t5lCjZMBSpJH",
        "outputId": "ffd2c7dc-5ee7-4e2b-a0a6-7b82f3ba81c1"
      },
      "execution_count": 13,
      "outputs": [
        {
          "output_type": "execute_result",
          "data": {
            "text/plain": [
              "107"
            ]
          },
          "metadata": {},
          "execution_count": 13
        }
      ]
    },
    {
      "cell_type": "code",
      "source": [
        "#Percentage of paid 5 star reviews\n",
        "percentage_paid_5star = paid_5star_reviews / paid_reviews_total * 100\n",
        "percentage_paid_5star"
      ],
      "metadata": {
        "colab": {
          "base_uri": "https://localhost:8080/"
        },
        "id": "D3FHWvF8S4YS",
        "outputId": "ce5ad553-a226-453c-b5ed-a0f1482e417b"
      },
      "execution_count": 14,
      "outputs": [
        {
          "output_type": "execute_result",
          "data": {
            "text/plain": [
              "52.336448598130836"
            ]
          },
          "metadata": {},
          "execution_count": 14
        }
      ]
    },
    {
      "cell_type": "code",
      "source": [
        "#Unpaid Reviews with 5 star rating\n",
        "unpaid_5star_reviews = unpaid_reviews_df[unpaid_reviews_df[\"star_rating\"] == 5].count()\n",
        "unpaid_5star_reviews"
      ],
      "metadata": {
        "colab": {
          "base_uri": "https://localhost:8080/"
        },
        "id": "GHUfNzrRTQRv",
        "outputId": "2b954b3d-7d68-4586-8216-446b34cd2f40"
      },
      "execution_count": 15,
      "outputs": [
        {
          "output_type": "execute_result",
          "data": {
            "text/plain": [
              "21005"
            ]
          },
          "metadata": {},
          "execution_count": 15
        }
      ]
    },
    {
      "cell_type": "code",
      "source": [
        "#Unpaid Reviews Total\n",
        "unpaid_reviews_total = unpaid_reviews_df.count()\n",
        "unpaid_reviews_total"
      ],
      "metadata": {
        "colab": {
          "base_uri": "https://localhost:8080/"
        },
        "id": "4aGUas4HTQfj",
        "outputId": "489cfa6d-b4bf-4010-89ad-5b53509a89a6"
      },
      "execution_count": 16,
      "outputs": [
        {
          "output_type": "execute_result",
          "data": {
            "text/plain": [
              "39869"
            ]
          },
          "metadata": {},
          "execution_count": 16
        }
      ]
    },
    {
      "cell_type": "code",
      "source": [
        "#Percentage of unpaid 5 star reviews\n",
        "percentage_unpaid_5star = unpaid_5star_reviews / unpaid_reviews_total * 100\n",
        "percentage_unpaid_5star"
      ],
      "metadata": {
        "colab": {
          "base_uri": "https://localhost:8080/"
        },
        "id": "yovrRNLgTQqU",
        "outputId": "0c622764-ad1d-4cfb-ac7f-6bcdebf37b2b"
      },
      "execution_count": 17,
      "outputs": [
        {
          "output_type": "execute_result",
          "data": {
            "text/plain": [
              "52.68504351751988"
            ]
          },
          "metadata": {},
          "execution_count": 17
        }
      ]
    }
  ]
}